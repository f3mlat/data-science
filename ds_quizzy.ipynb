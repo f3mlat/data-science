{
 "cells": [
  {
   "cell_type": "markdown",
   "id": "fd9ca570-373f-45d5-9e01-998c9b8eeaba",
   "metadata": {},
   "source": [
    "### Importing Required Library"
   ]
  },
  {
   "cell_type": "code",
   "execution_count": null,
   "id": "266a32ec-10bf-4f43-886b-2e5900146918",
   "metadata": {
    "tags": []
   },
   "outputs": [],
   "source": [
    "# All purpose library\n",
    "import pandas as pd\n",
    "import numpy as np\n",
    "\n",
    "# ML library\n",
    "from sklearn.model_selection import train_test_split\n",
    "from sklearn.preprocessing import MinMaxScaler\n",
    "from sklearn.linear_model import LinearRegression\n",
    "from sklearn.linear_model import Ridge\n",
    "from sklearn.linear_model import Lasso\n",
    "from sklearn.metrics import mean_absolute_error\n",
    "from sklearn.metrics import mean_squared_error\n",
    "\n",
    "# Visualization library\n",
    "import matplotlib.pyplot as plt\n",
    "import seaborn as sns"
   ]
  },
  {
   "cell_type": "markdown",
   "id": "d8938222-b2ab-4696-81ca-8c056376534e",
   "metadata": {},
   "source": [
    "### Analyzing dataset"
   ]
  },
  {
   "cell_type": "code",
   "execution_count": null,
   "id": "c7013a1a-d377-4733-9bab-294e6e078966",
   "metadata": {
    "tags": []
   },
   "outputs": [],
   "source": [
    "# loading datasets from csv file using pandas read_csv\n",
    "energydata_df = pd.read_csv(\"data/energydata_complete.csv\")"
   ]
  },
  {
   "cell_type": "code",
   "execution_count": null,
   "id": "23a7a02c-5a0a-4bee-9bf1-b3aeac387367",
   "metadata": {
    "tags": []
   },
   "outputs": [],
   "source": [
    "# Description of dataset\n",
    "energydata_df.describe().T"
   ]
  },
  {
   "cell_type": "code",
   "execution_count": null,
   "id": "0ac50ce8-db8a-44fd-80de-70f67eb23e89",
   "metadata": {
    "tags": []
   },
   "outputs": [],
   "source": [
    "# dataset information\n",
    "energydata_df.info()"
   ]
  },
  {
   "cell_type": "code",
   "execution_count": null,
   "id": "175b95cb-3490-4a06-b7fb-a4dd6c5bb2bf",
   "metadata": {
    "tags": []
   },
   "outputs": [],
   "source": [
    "# Displaying the first and last few rows\n",
    "print('First few rows of data')\n",
    "display(energydata_df.head())\n",
    "print('Last few rows of data')\n",
    "display(energydata_df.tail())"
   ]
  },
  {
   "cell_type": "code",
   "execution_count": null,
   "id": "df07ac2f-123d-4987-b3a7-a87fbc659819",
   "metadata": {
    "tags": []
   },
   "outputs": [],
   "source": [
    "# Dimension/Shape of dataset\n",
    "energydata_df.shape"
   ]
  },
  {
   "cell_type": "markdown",
   "id": "407fcfbe-b1f4-4988-85e9-617fcde2a0db",
   "metadata": {},
   "source": [
    "### Checking for missing values in dataset"
   ]
  },
  {
   "cell_type": "code",
   "execution_count": null,
   "id": "4d918bcf-b7b1-41ec-832c-f898c3498493",
   "metadata": {
    "tags": []
   },
   "outputs": [],
   "source": [
    "print(\"Dataset missing data:\\n\", energydata_df.isna().sum())"
   ]
  },
  {
   "cell_type": "markdown",
   "id": "ead2357e-ea3c-4d90-acf7-2354c3b132c4",
   "metadata": {},
   "source": [
    "# Question 17\n",
    "\n",
    "### From the dataset, fit a linear model on the relationship between the temperature in the living room in Celsius (x = T2) and the temperature outside the building (y = T6). What is the Root Mean Squared error in three D.P?"
   ]
  },
  {
   "cell_type": "code",
   "execution_count": null,
   "id": "6124c033-42a1-449d-943d-b375b10e36a1",
   "metadata": {
    "tags": []
   },
   "outputs": [],
   "source": [
    "x = energydata_df[['T2']]\n",
    "y = energydata_df[['T6']]\n",
    "\n",
    "x_train, x_test, y_train, y_test = train_test_split(x,y,random_state=1,test_size=0.20)\n",
    "lreg = LinearRegression()\n",
    "lreg.fit(x_train, y_train)\n",
    "y_pred = lreg.predict(x_test)\n",
    "\n",
    "from sklearn.metrics import mean_squared_error\n",
    "rmse = np.sqrt(mean_squared_error(y_test, y_pred))\n",
    "round(rmse,3)"
   ]
  },
  {
   "cell_type": "markdown",
   "id": "e0153561-b190-44aa-8406-9e71942503ed",
   "metadata": {},
   "source": [
    "# Question 18\n",
    "\n",
    "### Remove the following columns: [“date”, “lights”]. The target variable is “Appliances”. Use a 70-30 train-test set split with a  random state of 42 (for reproducibility). Normalize the dataset using the MinMaxScaler (Hint: Use the MinMaxScaler fit_transform and transform methods on the train and test set respectively). Run a multiple linear regression using the training set. Answer the following questions:\n",
    "\n",
    "### What is the Mean Absolute Error (in three decimal places) for the  training set?"
   ]
  },
  {
   "cell_type": "code",
   "execution_count": null,
   "id": "6d55e9ef-119f-493c-8cf7-48864b92f911",
   "metadata": {
    "tags": []
   },
   "outputs": [],
   "source": [
    "features_df = energydata_df.drop(columns=['Appliances','date','lights'], axis=1)\n",
    "target_df = energydata_df['Appliances']\n",
    "\n",
    "x_train, x_test, y_train, y_test = train_test_split(features_df, target_df, test_size=0.30, random_state=42)\n",
    "\n",
    "scaler = MinMaxScaler()\n",
    "x_train = pd.DataFrame(scaler.fit_transform(x_train), columns=x_train.columns)\n",
    "x_test = pd.DataFrame(scaler.transform(x_test), columns=x_test.columns)\n",
    "\n",
    "lreg = LinearRegression()\n",
    "lreg.fit(x_train, y_train)\n",
    "y_train_pred = lreg.predict(x_train)\n",
    "\n",
    "# MAE - Mean Absolute Error\n",
    "mae = mean_absolute_error(y_train, y_train_pred)\n",
    "round(mae,3)"
   ]
  },
  {
   "cell_type": "markdown",
   "id": "d96299f0-6a60-41b9-a666-6d79546060b4",
   "metadata": {},
   "source": [
    "# Question 19\n",
    "\n",
    "### What is the Root Mean Squared Error (in three decimal places) for the training set?"
   ]
  },
  {
   "cell_type": "code",
   "execution_count": null,
   "id": "88da2960-3576-4e25-9b15-c630b3c3c6ba",
   "metadata": {
    "tags": []
   },
   "outputs": [],
   "source": [
    "rmse = np.sqrt(mean_squared_error(y_train, y_train_pred))\n",
    "round(rmse,3)"
   ]
  },
  {
   "cell_type": "markdown",
   "id": "b7fdd823-34ed-4e15-ae55-341f8a7602fb",
   "metadata": {},
   "source": [
    "# Question 20\n",
    "\n",
    "### What is the Mean Absolute Error (in three decimal places) for test set?"
   ]
  },
  {
   "cell_type": "code",
   "execution_count": null,
   "id": "562d760a-8225-45aa-864b-397da7364a75",
   "metadata": {
    "tags": []
   },
   "outputs": [],
   "source": [
    "y_test_pred = lreg.predict(x_test)\n",
    "mae = mean_absolute_error(y_test, y_test_pred)\n",
    "round(mae,3)"
   ]
  },
  {
   "cell_type": "markdown",
   "id": "3344df73-3445-4f39-8d57-805386d6cba7",
   "metadata": {},
   "source": [
    "# Question 21\n",
    "\n",
    "### What is the Root Mean Squared Error (in three decimal places) for test set?"
   ]
  },
  {
   "cell_type": "code",
   "execution_count": null,
   "id": "3b9f9213-2536-4373-8d7e-4308226face5",
   "metadata": {
    "tags": []
   },
   "outputs": [],
   "source": [
    "rmse = np.sqrt(mean_squared_error(y_test, y_test_pred))\n",
    "round(rmse,3)"
   ]
  },
  {
   "cell_type": "markdown",
   "id": "e9424c90-2702-4f07-b79d-7807f0b0d931",
   "metadata": {},
   "source": [
    "# Question 23\n",
    "\n",
    "### Train a ridge regression model with default parameters. Is there any change to the root mean squared error (RMSE) when evaluated on the test set?"
   ]
  },
  {
   "cell_type": "code",
   "execution_count": null,
   "id": "a2243726-9506-461f-838a-f0b50a104859",
   "metadata": {
    "tags": []
   },
   "outputs": [],
   "source": [
    "ridge_reg = Ridge()\n",
    "ridge_reg.fit(x_train, y_train)\n",
    "y_pred = ridge_reg.predict(x_test)\n",
    "\n",
    "rmse = np.sqrt(mean_squared_error(y_test, y_pred))\n",
    "round(rmse,3)"
   ]
  },
  {
   "cell_type": "markdown",
   "id": "b79e0b3f-3639-4c7b-a93a-742be60155cb",
   "metadata": {},
   "source": [
    "# Question 24\n",
    "\n",
    "### Train a lasso regression model with default value and obtain the new feature weights with it. How many of the features have non-zero feature weights?"
   ]
  },
  {
   "cell_type": "code",
   "execution_count": null,
   "id": "af92c322-3944-4e7c-ba53-4718fc851527",
   "metadata": {
    "tags": []
   },
   "outputs": [],
   "source": [
    "lassoreg = Lasso()\n",
    "lassoreg.fit(x_train, y_train)\n",
    "y_pred = lassoreg.predict(x_test)\n",
    "\n",
    "# comparing the effects of regularisation\n",
    "def get_weights_df(model, feat, col_name):\n",
    "    # this function returns the weight of every features\n",
    "    weights = pd.Series(model.coef_, feat.columns).sort_values()\n",
    "    weights_df = pd.DataFrame(weights).reset_index()\n",
    "    weights_df.columns = ['Features', col_name]\n",
    "    weights_df[col_name].round(3)\n",
    "    return weights_df\n",
    "lasso_weights_df = get_weights_df(lassoreg, x_train, 'Lasso_Weight')\n",
    "\n",
    "lasso_weights_df"
   ]
  },
  {
   "cell_type": "markdown",
   "id": "f90ab43a-9ba3-4fd9-8b34-e34041b66da5",
   "metadata": {},
   "source": [
    "# Question 25\n",
    "\n",
    "### What is the new RMSE with the Lasso Regression on the test set?"
   ]
  },
  {
   "cell_type": "code",
   "execution_count": null,
   "id": "8fa54264-9196-48db-bd5c-c585cc1ce70b",
   "metadata": {
    "tags": []
   },
   "outputs": [],
   "source": [
    "rmse = np.sqrt(mean_squared_error(y_test, y_pred))\n",
    "round(rmse,3)"
   ]
  }
 ],
 "metadata": {
  "kernelspec": {
   "display_name": "Python 3 (ipykernel)",
   "language": "python",
   "name": "python3"
  },
  "language_info": {
   "codemirror_mode": {
    "name": "ipython",
    "version": 3
   },
   "file_extension": ".py",
   "mimetype": "text/x-python",
   "name": "python",
   "nbconvert_exporter": "python",
   "pygments_lexer": "ipython3",
   "version": "3.11.5"
  }
 },
 "nbformat": 4,
 "nbformat_minor": 5
}
